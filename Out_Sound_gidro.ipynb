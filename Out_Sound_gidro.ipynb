{
  "nbformat": 4,
  "nbformat_minor": 0,
  "metadata": {
    "colab": {
      "provenance": [],
      "toc_visible": true,
      "authorship_tag": "ABX9TyOHC4Ek+Z4x39KSq6Req7Oo",
      "include_colab_link": true
    },
    "kernelspec": {
      "name": "python3",
      "display_name": "Python 3"
    },
    "language_info": {
      "name": "python"
    }
  },
  "cells": [
    {
      "cell_type": "markdown",
      "metadata": {
        "id": "view-in-github",
        "colab_type": "text"
      },
      "source": [
        "<a href=\"https://colab.research.google.com/github/yudintsev-sergey/Finish/blob/main/Out_Sound_gidro.ipynb\" target=\"_parent\"><img src=\"https://colab.research.google.com/assets/colab-badge.svg\" alt=\"Open In Colab\"/></a>"
      ]
    },
    {
      "cell_type": "markdown",
      "source": [
        "Отключаем возможность использования GPU"
      ],
      "metadata": {
        "id": "rY6ZYxq4zPRb"
      }
    },
    {
      "cell_type": "code",
      "source": [
        "import os\n",
        "os.environ['TF_CPP_MIN_LOG_LEVEL'] = '2'    #"
      ],
      "metadata": {
        "id": "grcCdJ77zPyB"
      },
      "execution_count": null,
      "outputs": []
    },
    {
      "cell_type": "markdown",
      "source": [
        "Импортируем библиотеки"
      ],
      "metadata": {
        "id": "NOutAwZ_zkz0"
      }
    },
    {
      "cell_type": "code",
      "execution_count": null,
      "metadata": {
        "id": "ZviALI28_hyt"
      },
      "outputs": [],
      "source": [
        "import numpy as np\n",
        "import math as ma\n",
        "import matplotlib.pyplot as plt\n",
        "import time\n",
        "import tensorflow as tf\n",
        "from tensorflow import keras\n",
        "from keras.layers import Activation, Dense\n",
        "from tensorflow.keras.layers import Dense, Conv2D, MaxPooling2D, Flatten"
      ]
    },
    {
      "cell_type": "markdown",
      "source": [
        "Монтируем диск"
      ],
      "metadata": {
        "id": "fCOrT1Hv0qgm"
      }
    },
    {
      "cell_type": "code",
      "source": [
        "from google.colab import drive\n",
        "drive.mount(\"/ShardDrives/\")"
      ],
      "metadata": {
        "colab": {
          "base_uri": "https://localhost:8080/"
        },
        "id": "fV6ZWWmY0uPW",
        "outputId": "a6715b91-a2e6-4dd2-92b8-6b2addd7e34a"
      },
      "execution_count": null,
      "outputs": [
        {
          "output_type": "stream",
          "name": "stdout",
          "text": [
            "Mounted at /ShardDrives/\n"
          ]
        }
      ]
    },
    {
      "cell_type": "markdown",
      "source": [
        "Выбираем рабочую директорию, где сохранены файлы базы данных для анализа"
      ],
      "metadata": {
        "id": "_oU-lW0VCad9"
      }
    },
    {
      "cell_type": "code",
      "source": [
        "os.chdir('/ShardDrives/MyDrive/Colab Notebooks/Out/')"
      ],
      "metadata": {
        "id": "zRJz49vcCeDf"
      },
      "execution_count": null,
      "outputs": []
    },
    {
      "cell_type": "markdown",
      "source": [
        "Засекаем время"
      ],
      "metadata": {
        "id": "muvNHewOChtd"
      }
    },
    {
      "cell_type": "code",
      "source": [
        "start = time.time()"
      ],
      "metadata": {
        "id": "tEeD9wFSCl-J"
      },
      "execution_count": null,
      "outputs": []
    },
    {
      "cell_type": "markdown",
      "source": [
        "Читаем файлы для обучения нейронной сети"
      ],
      "metadata": {
        "id": "8bjHWj1P8oS5"
      }
    },
    {
      "cell_type": "code",
      "source": [
        "tmbr_base = np.load('tmbr_base.npy')\n",
        "true_base = np.load('true_base.npy')"
      ],
      "metadata": {
        "id": "0KHrMfsO7LA3"
      },
      "execution_count": null,
      "outputs": []
    },
    {
      "cell_type": "markdown",
      "source": [
        "Делим общую базу на обучающую и тестовую часть"
      ],
      "metadata": {
        "id": "ML8Mffj43eT2"
      }
    },
    {
      "cell_type": "code",
      "source": [
        "n = ma.ceil(tmbr_base.shape[0] * 0.8)\n",
        "m = tmbr_base.shape[0] - n\n",
        "tmbr_train = tmbr_base[:n]\n",
        "tmbr_test = tmbr_base[n:]\n",
        "true_train = true_base[:n]\n",
        "true_test = true_base[n:]"
      ],
      "metadata": {
        "id": "NeYcTVk53n3S"
      },
      "execution_count": null,
      "outputs": []
    },
    {
      "cell_type": "markdown",
      "source": [
        "Строим модель"
      ],
      "metadata": {
        "id": "zq9JmvSw-fMs"
      }
    },
    {
      "cell_type": "code",
      "source": [
        "model = keras.Sequential([\n",
        "    Conv2D(8, (3,3), padding='same', activation='relu', input_shape=(16, 16, 1)),\n",
        "    MaxPooling2D((2, 2), strides=2),\n",
        "    Flatten(),\n",
        "    Dense(128, activation='relu'),\n",
        "    Dense(10,  activation='softmax')\n",
        "])"
      ],
      "metadata": {
        "id": "XwwcGaxF-iUx"
      },
      "execution_count": null,
      "outputs": []
    },
    {
      "cell_type": "markdown",
      "source": [
        "Выводим структуру модели"
      ],
      "metadata": {
        "id": "uokrNCduD-rT"
      }
    },
    {
      "cell_type": "code",
      "source": [
        "print(model.summary())"
      ],
      "metadata": {
        "colab": {
          "base_uri": "https://localhost:8080/"
        },
        "id": "4I0J2hkfED-A",
        "outputId": "402d280d-f57f-4756-d34c-3807edc8310e"
      },
      "execution_count": null,
      "outputs": [
        {
          "output_type": "stream",
          "name": "stdout",
          "text": [
            "Model: \"sequential\"\n",
            "_________________________________________________________________\n",
            " Layer (type)                Output Shape              Param #   \n",
            "=================================================================\n",
            " conv2d (Conv2D)             (None, 16, 16, 8)         80        \n",
            "                                                                 \n",
            " max_pooling2d (MaxPooling2  (None, 8, 8, 8)           0         \n",
            " D)                                                              \n",
            "                                                                 \n",
            " flatten (Flatten)           (None, 512)               0         \n",
            "                                                                 \n",
            " dense (Dense)               (None, 128)               65664     \n",
            "                                                                 \n",
            " dense_1 (Dense)             (None, 10)                1290      \n",
            "                                                                 \n",
            "=================================================================\n",
            "Total params: 67034 (261.85 KB)\n",
            "Trainable params: 67034 (261.85 KB)\n",
            "Non-trainable params: 0 (0.00 Byte)\n",
            "_________________________________________________________________\n",
            "None\n"
          ]
        }
      ]
    },
    {
      "cell_type": "markdown",
      "source": [
        "Компилируем модель"
      ],
      "metadata": {
        "id": "rPzp2aYr-xvO"
      }
    },
    {
      "cell_type": "code",
      "source": [
        "model.compile(optimizer='adam',\n",
        "             loss='categorical_crossentropy',\n",
        "             metrics=['accuracy'])\n",
        "print(\"Компиляция завершена\")"
      ],
      "metadata": {
        "colab": {
          "base_uri": "https://localhost:8080/"
        },
        "id": "NhpZnUKr-0K1",
        "outputId": "9044646b-7dd5-4c2d-c84e-bcd588c909f4"
      },
      "execution_count": null,
      "outputs": [
        {
          "output_type": "stream",
          "name": "stdout",
          "text": [
            "Компиляция завершена\n"
          ]
        }
      ]
    },
    {
      "cell_type": "markdown",
      "source": [
        "Обучаем"
      ],
      "metadata": {
        "id": "y1JK81FlAChY"
      }
    },
    {
      "cell_type": "code",
      "source": [
        "history = model.fit(tmbr_train, true_train, batch_size=128, epochs=50, validation_split=0.2, verbose = 1)"
      ],
      "metadata": {
        "id": "RqUK3opJAE2D",
        "colab": {
          "base_uri": "https://localhost:8080/"
        },
        "outputId": "a62d77b4-767a-4357-9325-0f4bb833aa4d"
      },
      "execution_count": null,
      "outputs": [
        {
          "output_type": "stream",
          "name": "stdout",
          "text": [
            "Epoch 1/50\n",
            "12/12 [==============================] - 2s 58ms/step - loss: 36.3916 - accuracy: 0.2971 - val_loss: 17.7488 - val_accuracy: 0.2841\n",
            "Epoch 2/50\n",
            "12/12 [==============================] - 0s 32ms/step - loss: 12.0562 - accuracy: 0.3187 - val_loss: 10.4533 - val_accuracy: 0.2869\n",
            "Epoch 3/50\n",
            "12/12 [==============================] - 0s 29ms/step - loss: 6.2703 - accuracy: 0.3389 - val_loss: 5.1479 - val_accuracy: 0.3677\n",
            "Epoch 4/50\n",
            "12/12 [==============================] - 0s 29ms/step - loss: 3.6794 - accuracy: 0.3703 - val_loss: 4.2163 - val_accuracy: 0.3482\n",
            "Epoch 5/50\n",
            "12/12 [==============================] - 0s 31ms/step - loss: 3.2402 - accuracy: 0.3752 - val_loss: 3.4743 - val_accuracy: 0.3593\n",
            "Epoch 6/50\n",
            "12/12 [==============================] - 1s 83ms/step - loss: 2.5537 - accuracy: 0.4045 - val_loss: 2.3535 - val_accuracy: 0.3538\n",
            "Epoch 7/50\n",
            "12/12 [==============================] - 0s 37ms/step - loss: 2.4352 - accuracy: 0.4107 - val_loss: 2.5733 - val_accuracy: 0.3649\n",
            "Epoch 8/50\n",
            "12/12 [==============================] - 1s 58ms/step - loss: 2.3611 - accuracy: 0.4282 - val_loss: 2.4205 - val_accuracy: 0.3733\n",
            "Epoch 9/50\n",
            "12/12 [==============================] - 0s 25ms/step - loss: 2.1564 - accuracy: 0.4177 - val_loss: 2.3661 - val_accuracy: 0.3649\n",
            "Epoch 10/50\n",
            "12/12 [==============================] - 0s 17ms/step - loss: 1.8972 - accuracy: 0.4379 - val_loss: 2.2501 - val_accuracy: 0.3677\n",
            "Epoch 11/50\n",
            "12/12 [==============================] - 0s 17ms/step - loss: 1.9409 - accuracy: 0.4233 - val_loss: 2.6716 - val_accuracy: 0.3788\n",
            "Epoch 12/50\n",
            "12/12 [==============================] - 1s 51ms/step - loss: 2.0779 - accuracy: 0.4310 - val_loss: 4.2912 - val_accuracy: 0.3844\n",
            "Epoch 13/50\n",
            "12/12 [==============================] - 0s 17ms/step - loss: 3.0814 - accuracy: 0.4045 - val_loss: 2.1957 - val_accuracy: 0.3398\n",
            "Epoch 14/50\n",
            "12/12 [==============================] - 0s 21ms/step - loss: 2.0365 - accuracy: 0.4205 - val_loss: 2.1241 - val_accuracy: 0.3482\n",
            "Epoch 15/50\n",
            "12/12 [==============================] - 0s 18ms/step - loss: 1.8800 - accuracy: 0.4533 - val_loss: 2.7670 - val_accuracy: 0.4011\n",
            "Epoch 16/50\n",
            "12/12 [==============================] - 0s 17ms/step - loss: 1.8034 - accuracy: 0.4770 - val_loss: 2.2780 - val_accuracy: 0.3900\n",
            "Epoch 17/50\n",
            "12/12 [==============================] - 0s 18ms/step - loss: 2.1027 - accuracy: 0.4484 - val_loss: 3.0981 - val_accuracy: 0.3760\n",
            "Epoch 18/50\n",
            "12/12 [==============================] - 0s 18ms/step - loss: 2.3148 - accuracy: 0.4261 - val_loss: 2.5904 - val_accuracy: 0.3510\n",
            "Epoch 19/50\n",
            "12/12 [==============================] - 0s 17ms/step - loss: 1.7031 - accuracy: 0.4568 - val_loss: 2.1743 - val_accuracy: 0.3872\n",
            "Epoch 20/50\n",
            "12/12 [==============================] - 0s 18ms/step - loss: 1.4807 - accuracy: 0.4986 - val_loss: 2.9364 - val_accuracy: 0.3482\n",
            "Epoch 21/50\n",
            "12/12 [==============================] - 0s 18ms/step - loss: 1.7566 - accuracy: 0.4707 - val_loss: 2.0910 - val_accuracy: 0.3900\n",
            "Epoch 22/50\n",
            "12/12 [==============================] - 0s 17ms/step - loss: 1.5237 - accuracy: 0.4840 - val_loss: 2.5966 - val_accuracy: 0.4067\n",
            "Epoch 23/50\n",
            "12/12 [==============================] - 0s 17ms/step - loss: 2.0930 - accuracy: 0.4331 - val_loss: 2.5689 - val_accuracy: 0.3955\n",
            "Epoch 24/50\n",
            "12/12 [==============================] - 0s 21ms/step - loss: 1.8799 - accuracy: 0.4561 - val_loss: 2.8856 - val_accuracy: 0.3928\n",
            "Epoch 25/50\n",
            "12/12 [==============================] - 0s 18ms/step - loss: 1.5832 - accuracy: 0.4916 - val_loss: 2.1111 - val_accuracy: 0.3983\n",
            "Epoch 26/50\n",
            "12/12 [==============================] - 0s 16ms/step - loss: 1.2700 - accuracy: 0.5321 - val_loss: 2.7352 - val_accuracy: 0.3955\n",
            "Epoch 27/50\n",
            "12/12 [==============================] - 0s 16ms/step - loss: 1.8523 - accuracy: 0.4603 - val_loss: 2.4082 - val_accuracy: 0.3955\n",
            "Epoch 28/50\n",
            "12/12 [==============================] - 0s 17ms/step - loss: 1.8013 - accuracy: 0.4589 - val_loss: 2.6156 - val_accuracy: 0.3538\n",
            "Epoch 29/50\n",
            "12/12 [==============================] - 0s 17ms/step - loss: 1.7847 - accuracy: 0.4756 - val_loss: 2.2187 - val_accuracy: 0.3816\n",
            "Epoch 30/50\n",
            "12/12 [==============================] - 0s 18ms/step - loss: 1.5084 - accuracy: 0.4847 - val_loss: 1.7690 - val_accuracy: 0.3816\n",
            "Epoch 31/50\n",
            "12/12 [==============================] - 0s 17ms/step - loss: 2.1014 - accuracy: 0.4742 - val_loss: 2.0198 - val_accuracy: 0.3733\n",
            "Epoch 32/50\n",
            "12/12 [==============================] - 0s 17ms/step - loss: 1.4894 - accuracy: 0.4742 - val_loss: 1.8892 - val_accuracy: 0.3872\n",
            "Epoch 33/50\n",
            "12/12 [==============================] - 0s 17ms/step - loss: 1.3420 - accuracy: 0.5265 - val_loss: 2.1793 - val_accuracy: 0.4067\n",
            "Epoch 34/50\n",
            "12/12 [==============================] - 0s 18ms/step - loss: 1.2563 - accuracy: 0.5307 - val_loss: 2.6400 - val_accuracy: 0.3983\n",
            "Epoch 35/50\n",
            "12/12 [==============================] - 0s 18ms/step - loss: 1.5976 - accuracy: 0.5056 - val_loss: 1.8072 - val_accuracy: 0.3900\n",
            "Epoch 36/50\n",
            "12/12 [==============================] - 0s 17ms/step - loss: 1.2319 - accuracy: 0.5418 - val_loss: 2.2441 - val_accuracy: 0.3398\n",
            "Epoch 37/50\n",
            "12/12 [==============================] - 0s 16ms/step - loss: 1.5738 - accuracy: 0.5007 - val_loss: 2.0139 - val_accuracy: 0.4095\n",
            "Epoch 38/50\n",
            "12/12 [==============================] - 0s 17ms/step - loss: 1.5248 - accuracy: 0.4812 - val_loss: 2.8463 - val_accuracy: 0.4011\n",
            "Epoch 39/50\n",
            "12/12 [==============================] - 0s 18ms/step - loss: 1.4937 - accuracy: 0.5091 - val_loss: 2.4368 - val_accuracy: 0.4067\n",
            "Epoch 40/50\n",
            "12/12 [==============================] - 0s 18ms/step - loss: 1.7540 - accuracy: 0.5174 - val_loss: 1.7018 - val_accuracy: 0.3955\n",
            "Epoch 41/50\n",
            "12/12 [==============================] - 0s 17ms/step - loss: 1.1243 - accuracy: 0.5621 - val_loss: 2.5348 - val_accuracy: 0.4039\n",
            "Epoch 42/50\n",
            "12/12 [==============================] - 0s 17ms/step - loss: 1.6616 - accuracy: 0.5007 - val_loss: 1.7389 - val_accuracy: 0.4234\n",
            "Epoch 43/50\n",
            "12/12 [==============================] - 0s 17ms/step - loss: 1.1731 - accuracy: 0.5404 - val_loss: 2.1211 - val_accuracy: 0.3482\n",
            "Epoch 44/50\n",
            "12/12 [==============================] - 0s 18ms/step - loss: 1.7647 - accuracy: 0.4972 - val_loss: 3.1477 - val_accuracy: 0.4178\n",
            "Epoch 45/50\n",
            "12/12 [==============================] - 0s 17ms/step - loss: 1.8547 - accuracy: 0.4895 - val_loss: 2.8222 - val_accuracy: 0.3872\n",
            "Epoch 46/50\n",
            "12/12 [==============================] - 0s 17ms/step - loss: 1.4632 - accuracy: 0.5321 - val_loss: 1.6425 - val_accuracy: 0.4067\n",
            "Epoch 47/50\n",
            "12/12 [==============================] - 0s 16ms/step - loss: 1.4245 - accuracy: 0.5321 - val_loss: 1.9254 - val_accuracy: 0.4095\n",
            "Epoch 48/50\n",
            "12/12 [==============================] - 0s 17ms/step - loss: 1.1619 - accuracy: 0.5397 - val_loss: 1.7675 - val_accuracy: 0.3900\n",
            "Epoch 49/50\n",
            "12/12 [==============================] - 0s 18ms/step - loss: 1.0503 - accuracy: 0.5662 - val_loss: 2.2880 - val_accuracy: 0.4123\n",
            "Epoch 50/50\n",
            "12/12 [==============================] - 0s 17ms/step - loss: 1.2776 - accuracy: 0.5537 - val_loss: 3.0263 - val_accuracy: 0.4150\n"
          ]
        }
      ]
    },
    {
      "cell_type": "markdown",
      "source": [
        "Визуализируем"
      ],
      "metadata": {
        "id": "xdnepre4H8uC"
      }
    },
    {
      "cell_type": "code",
      "source": [
        "plt.plot(history.history['loss'])\n",
        "plt.grid(True)\n",
        "plt.show()"
      ],
      "metadata": {
        "id": "ybHPpap1H-Ip",
        "colab": {
          "base_uri": "https://localhost:8080/",
          "height": 430
        },
        "outputId": "8353d1c6-857a-4819-8e1e-7ad6138096ef"
      },
      "execution_count": null,
      "outputs": [
        {
          "output_type": "display_data",
          "data": {
            "text/plain": [
              "<Figure size 640x480 with 1 Axes>"
            ],
            "image/png": "[encoded data removed]"
          },
          "metadata": {}
        }
      ]
    },
    {
      "cell_type": "markdown",
      "source": [
        "Оцениваем"
      ],
      "metadata": {
        "id": "SVDy6Rq9HKyn"
      }
    },
    {
      "cell_type": "code",
      "source": [
        "results = model.evaluate(tmbr_test, true_test, batch_size=128)\n",
        "print(\"test loss, test acc:\", results)"
      ],
      "metadata": {
        "id": "WmRYJpgSHPDC",
        "colab": {
          "base_uri": "https://localhost:8080/"
        },
        "outputId": "ca6452fd-047b-471f-c109-160305a1e471"
      },
      "execution_count": null,
      "outputs": [
        {
          "output_type": "stream",
          "name": "stdout",
          "text": [
            "4/4 [==============================] - 0s 7ms/step - loss: 2.9934 - accuracy: 0.4085\n",
            "test loss, test acc: [2.9933547973632812, 0.4084821343421936]\n"
          ]
        }
      ]
    },
    {
      "cell_type": "markdown",
      "source": [
        "Время работы алгоритма"
      ],
      "metadata": {
        "id": "5lv9vtJFUbIz"
      }
    },
    {
      "cell_type": "code",
      "source": [
        "end = time.time()\n",
        "print(\"Время работы алгоритма составило :\", (end-start), \"сек\")"
      ],
      "metadata": {
        "id": "Byq7AXz3Ud1p",
        "colab": {
          "base_uri": "https://localhost:8080/"
        },
        "outputId": "1603933a-2dba-4922-a93f-3197e2b4d30e"
      },
      "execution_count": null,
      "outputs": [
        {
          "output_type": "stream",
          "name": "stdout",
          "text": [
            "Время работы алгоритма составило : 144.5919153690338 сек\n"
          ]
        }
      ]
    }
  ]
}
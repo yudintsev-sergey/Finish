{
  "cells": [
    {
      "cell_type": "markdown",
      "metadata": {
        "id": "view-in-github",
        "colab_type": "text"
      },
      "source": [
        "<a href=\"https://colab.research.google.com/github/yudintsev-sergey/Finish/blob/main/Mixer.ipynb\" target=\"_parent\"><img src=\"https://colab.research.google.com/assets/colab-badge.svg\" alt=\"Open In Colab\"/></a>"
      ]
    },
    {
      "cell_type": "markdown",
      "metadata": {
        "id": "AMInMQRVWp73"
      },
      "source": [
        "Монтируем диск на My Drive"
      ]
    },
    {
      "cell_type": "code",
      "execution_count": null,
      "metadata": {
        "colab": {
          "base_uri": "https://localhost:8080/"
        },
        "id": "_r76aq2CWhv2",
        "outputId": "fd197dab-55b3-45d0-bd63-32861824ed37"
      },
      "outputs": [
        {
          "output_type": "stream",
          "name": "stdout",
          "text": [
            "Mounted at /ShardDrives/\n"
          ]
        }
      ],
      "source": [
        "from google.colab import drive\n",
        "drive.mount(\"/ShardDrives/\")"
      ]
    },
    {
      "cell_type": "markdown",
      "metadata": {
        "id": "2113ccdfWq18"
      },
      "source": [
        "Импортируем необходимые библиотеки и запускаем отсчет времени, которое алгоритм потратит на выполнение программы"
      ]
    },
    {
      "cell_type": "code",
      "execution_count": null,
      "metadata": {
        "id": "65NIbXqAWraA"
      },
      "outputs": [],
      "source": [
        "import librosa                      # пакет для анализа аудиофайлов\n",
        "from scipy.io.wavfile import write  # пакет анализа аудио со своими особенностями\n",
        "import os                           # работа с ОС\n",
        "import numpy as np                  # работа с массивами\n",
        "import math as ma                   # пакет математических формул\n",
        "import matplotlib.pyplot as plt     # графики\n",
        "import time                         # работа с переменными в формате времени\n",
        "\n",
        "start = time.time()"
      ]
    },
    {
      "cell_type": "markdown",
      "metadata": {
        "id": "SHKZBUxFWsbY"
      },
      "source": [
        "Определяем рабочую директорию. Там будут все файлы данного проекта."
      ]
    },
    {
      "cell_type": "code",
      "execution_count": null,
      "metadata": {
        "id": "NZomZB6dWs0f"
      },
      "outputs": [],
      "source": [
        "os.chdir('/ShardDrives/MyDrive/Colab Notebooks/Out/')"
      ]
    },
    {
      "cell_type": "markdown",
      "metadata": {
        "id": "d-_Pja6xWtUO"
      },
      "source": [
        "Задаемся константами для Фурье-преобразования (мы будем использовать мел-кепстральный вариант анализа аудиофайла)"
      ]
    },
    {
      "cell_type": "code",
      "execution_count": null,
      "metadata": {
        "id": "j35djZoeWtvi"
      },
      "outputs": [],
      "source": [
        "sr = 22050                        # частота сэмплирования (отсчетов / сек)\n",
        "hop_length = 2048                 # шаг перемещения окна n_fft, в котором происходит мел-кепстральный анализ\n",
        "n_fft = 512                       # окно FFT (fast Fourie transform)\n",
        "n_mfcc = 128                      # число мел-интервалов (треугольных фильтров в окне n_fft)\n",
        "n_common = int(n_mfcc ** 2 + 3)   # размерность вытянутого в линейку массива, полученного на одном шаге hop_length"
      ]
    },
    {
      "cell_type": "markdown",
      "metadata": {
        "id": "YVLi-xmRXOST"
      },
      "source": [
        "Из файла .wav, который кажется однообразным, нарезаем в случайные моменты времени одинаковой длины файлы, которые тоже кажутся нам одинаковыми.\n",
        "Это модель нескольких похожих источников звука, которые находятся на разной удаленности от регистратора.\n",
        "Для генерации нашей базы берем шум винтов океанского лайнера."
      ]
    },
    {
      "cell_type": "code",
      "execution_count": null,
      "metadata": {
        "id": "ajWzHEyJXOtn"
      },
      "outputs": [],
      "source": [
        "filename = 'airboat-steady-convert.wav'\n",
        "y, sr = librosa.load(filename, sr=22050)\n",
        "drtn = librosa.get_duration(y=y, sr=sr)       # Определяем длительность аудиофайла (сек)\n",
        "duration = (n_mfcc - 1) * hop_length / sr     # Задаем длительность сэмпла так, чтобы при анализе не было \"мертвых зон\"\n",
        "m = 3                                        # Выбираем количество образцов для эксперимента\n",
        "\n",
        "sounds = []\n",
        "times = np.random.rand(m) * (drtn - duration)  # Это \"m\" случайных моментов времени для \"биопсии\" образцов\n",
        "\n",
        "for i in range(m):\n",
        "  y, sr = librosa.load(filename, sr=sr, offset=times[i], duration=duration)\n",
        "  sounds.append(y)                              # Нарезка коротких звуков одной длительности\n",
        "  write(str(i) +\"_airboat.wav\", sr, sounds[i])   # Запись образцов аудио в рабочую директорию"
      ]
    },
    {
      "cell_type": "code",
      "execution_count": null,
      "metadata": {
        "colab": {
          "base_uri": "https://localhost:8080/"
        },
        "id": "Dl-icaijegMp",
        "outputId": "18c3593d-7851-4373-e49d-fbf81d449345"
      },
      "outputs": [
        {
          "output_type": "stream",
          "name": "stdout",
          "text": [
            "Collecting pydub\n",
            "  Downloading pydub-0.25.1-py2.py3-none-any.whl (32 kB)\n",
            "Installing collected packages: pydub\n",
            "Successfully installed pydub-0.25.1\n"
          ]
        }
      ],
      "source": [
        "!pip install pydub                               # Еще один необходимый пакет с дополнительными инструментами анализа\n",
        "import pydub\n",
        "from pydub import AudioSegment"
      ]
    },
    {
      "cell_type": "markdown",
      "metadata": {
        "id": "qnqykAXUct9F"
      },
      "source": [
        "Смешиваем файлы по принципу - индекс \"0\" - беспримесный файл, \"1\" - смешано два файла, \"2\" - три файла и т.д.,..., 9 - смешано 10 файлов."
      ]
    },
    {
      "cell_type": "code",
      "execution_count": null,
      "metadata": {
        "id": "EJuw0uHwdLGz"
      },
      "outputs": [],
      "source": [
        "mixed_sounds = AudioSegment.silent(duration=duration*1000, frame_rate=sr)\n",
        "mixed_sounds.export(\"mixed_sounds.wav\", format='wav')\n",
        "for i in range(m):\n",
        "  sound1 = AudioSegment.from_file('mixed_sounds.wav')\n",
        "  sound2 = AudioSegment.from_file(str(i) + \"_airboat.wav\")\n",
        "  mixed_sounds = sound1.overlay(sound2)\n",
        "  mixed_sounds.export(str(i) + \"_mixed.wav\", format='wav')"
      ]
    },
    {
      "cell_type": "markdown",
      "metadata": {
        "id": "tTFjabQzPLRL"
      },
      "source": [
        "Константы изменяем"
      ]
    },
    {
      "cell_type": "code",
      "execution_count": null,
      "metadata": {
        "id": "DQ862t4CPNoC"
      },
      "outputs": [],
      "source": [
        "n_mfcc = 16                       # число мел-интервалов (треугольных фильтров в окне n_fft)\n",
        "n_common = int(n_mfcc ** 2 + 10)   # размерность вытянутого в линейку массива, полученного на одном шаге hop_length\n",
        "common_base = np.empty([0, n_common], dtype=float)"
      ]
    },
    {
      "cell_type": "markdown",
      "metadata": {
        "id": "gMUM9bZtN8ba"
      },
      "source": [
        "Функция нарезки коротких сэмплов для создания базы данных для исследования"
      ]
    },
    {
      "cell_type": "code",
      "execution_count": null,
      "metadata": {
        "id": "2SouCY3wOS2k"
      },
      "outputs": [],
      "source": [
        "def file_to_base(filename, threeplet=[[1., 0., 0., 0., 0., 0., 0., 0., 0., 0.]],\n",
        "                 sr=22050, hop_length=2048, n_fft=512, n_mfcc=16):\n",
        "    global common_base              #, sr, hop_length, n_fft, n_mfcc\n",
        "    duration = 1.0001 * (n_mfcc - 1) * hop_length / sr\n",
        "    y, sr = librosa.load(filename, sr=sr)\n",
        "    drtn = librosa.get_duration(y=y, sr=sr)\n",
        "\n",
        "    off_s = 0.\n",
        "    while off_s < (drtn - duration):\n",
        "        y, sr = librosa.load(filename, sr=sr, offset=off_s, duration=duration)\n",
        "        tmbr = librosa.feature.mfcc(y=y, sr=sr, n_fft=n_fft, hop_length=hop_length, n_mfcc=n_mfcc)\n",
        "        tmbr_lin = np.append(tmbr.reshape(1, n_mfcc ** 2), threeplet, axis=1)\n",
        "        common_base = np.append(common_base, tmbr_lin, axis=0)\n",
        "        off_s += 0.01 * duration\n",
        "    return common_base"
      ]
    },
    {
      "cell_type": "markdown",
      "metadata": {
        "id": "VuMEFuWfnkrD"
      },
      "source": [
        "Берем последовательно все наши 10 образцов и формируем общую базу данных с результатами мел-кепстрального анализа и признаками принадлежности к одному из 10-ти классов.\n",
        "Время выполнения данного фрагмента кода 105 секунд"
      ]
    },
    {
      "cell_type": "code",
      "execution_count": null,
      "metadata": {
        "id": "aaKOciktSCpZ"
      },
      "outputs": [],
      "source": [
        "file_to_base('0_mixed.wav', [[1., 0., 0., 0., 0., 0., 0., 0., 0., 0.]])\n",
        "file_to_base('1_mixed.wav', [[0., 1., 0., 0., 0., 0., 0., 0., 0., 0.]])\n",
        "file_to_base('2_mixed.wav', [[0., 0., 1., 0., 0., 0., 0., 0., 0., 0.]])\n",
        "#file_to_base('3_mixed.wav', [[0., 0., 0., 1., 0., 0., 0., 0., 0., 0.]])\n",
        "#file_to_base('4_mixed.wav', [[0., 0., 0., 0., 1., 0., 0., 0., 0., 0.]])\n",
        "#file_to_base('5_mixed.wav', [[0., 0., 0., 0., 0., 1., 0., 0., 0., 0.]])\n",
        "#file_to_base('6_mixed.wav', [[0., 0., 0., 0., 0., 0., 1., 0., 0., 0.]])\n",
        "#file_to_base('7_mixed.wav', [[0., 0., 0., 0., 0., 0., 0., 1., 0., 0.]])\n",
        "#file_to_base('8_mixed.wav', [[0., 0., 0., 0., 0., 0., 0., 0., 1., 0.]])\n",
        "#file_to_base('9_mixed.wav', [[0., 0., 0., 0., 0., 0., 0., 0., 0., 1.]])"
      ]
    },
    {
      "cell_type": "markdown",
      "metadata": {
        "id": "2nOBEKNQqshW"
      },
      "source": [
        "Перемешиваем случайным образом нашу базу данных"
      ]
    },
    {
      "cell_type": "code",
      "execution_count": null,
      "metadata": {
        "id": "9B09zS9aqvED"
      },
      "outputs": [],
      "source": [
        "np.random.shuffle(common_base)"
      ]
    },
    {
      "cell_type": "markdown",
      "metadata": {
        "id": "rit2vIomriSU"
      },
      "source": [
        "Строим 3-D матрицу мел-кепстральных коэффициентов МКК (характеристики тембра), выделяя строки признаков \"true\" в отдельный файл"
      ]
    },
    {
      "cell_type": "code",
      "execution_count": null,
      "metadata": {
        "colab": {
          "base_uri": "https://localhost:8080/"
        },
        "id": "-vp6EetBrjcY",
        "outputId": "e5492143-972b-422b-c851-f1d993880324"
      },
      "outputs": [
        {
          "output_type": "stream",
          "name": "stdout",
          "text": [
            "(2241, 16, 16)\n"
          ]
        }
      ],
      "source": [
        "arrays = [common_base[:, :n_mfcc ** 2][i].reshape(n_mfcc,n_mfcc) for i in range(np.shape(common_base)[0])]\n",
        "tmbr_base = np.stack(arrays, axis=0)\n",
        "print(tmbr_base.shape)"
      ]
    },
    {
      "cell_type": "markdown",
      "metadata": {
        "id": "N__SL37crzas"
      },
      "source": [
        "Строим матрицу признаков \"true\", которые индексированы с матрицей МКК"
      ]
    },
    {
      "cell_type": "code",
      "execution_count": null,
      "metadata": {
        "colab": {
          "base_uri": "https://localhost:8080/"
        },
        "id": "KujJ-CN6r0T3",
        "outputId": "30c274e0-e340-4f1f-caf9-206344c4776d"
      },
      "outputs": [
        {
          "output_type": "stream",
          "name": "stdout",
          "text": [
            "(2241, 10)\n"
          ]
        }
      ],
      "source": [
        "true_base = common_base[:, n_mfcc ** 2:]\n",
        "print(true_base.shape)"
      ]
    },
    {
      "cell_type": "markdown",
      "metadata": {
        "id": "cCvZxvBHvxNz"
      },
      "source": [
        "Сохраняем базы данных в рабочей директории"
      ]
    },
    {
      "cell_type": "code",
      "execution_count": null,
      "metadata": {
        "id": "R0xuhzs4v1RV"
      },
      "outputs": [],
      "source": [
        "np.save('tmbr_base', tmbr_base)\n",
        "np.save('true_base', true_base)"
      ]
    },
    {
      "cell_type": "markdown",
      "metadata": {
        "id": "79hZEG0JwDMc"
      },
      "source": [
        "Справка"
      ]
    },
    {
      "cell_type": "code",
      "execution_count": null,
      "metadata": {
        "colab": {
          "base_uri": "https://localhost:8080/"
        },
        "id": "EaVLfTFhwFH2",
        "outputId": "fcbfc591-40f8-4a97-8054-a30d0397d4ae"
      },
      "outputs": [
        {
          "output_type": "stream",
          "name": "stdout",
          "text": [
            "Время выполнения программы =  399.2692835330963  сек\n",
            "Размерность \"линейного\" массива \"common_base\" =  (2241, 266)\n",
            "Размерность массива \"tmbr\" =  (2241, 16, 16)\n",
            "Размерность массива признаков \"true\" =  (2241, 10)\n",
            "Файлы np_array сохранены в родительской папке с расширением *.npy\n"
          ]
        }
      ],
      "source": [
        "# record end time\n",
        "end = time.time()\n",
        "# печатаем длительность работы алгоритма\n",
        "print(\"Время выполнения программы = \", (end-start), \" сек\")\n",
        "\n",
        "# Справочные данные\n",
        "print('Размерность \"линейного\" массива \"common_base\" = ', np.shape(common_base))\n",
        "print('Размерность массива \"tmbr\" = ', np.shape(tmbr_base))\n",
        "print('Размерность массива признаков \"true\" = ', np.shape(true_base))\n",
        "print('Файлы np_array сохранены в родительской папке с расширением *.npy')"
      ]
    }
  ],
  "metadata": {
    "colab": {
      "provenance": [],
      "toc_visible": true,
      "authorship_tag": "ABX9TyNnEuKOQ0MMn/r11U7z69gK",
      "include_colab_link": true
    },
    "kernelspec": {
      "display_name": "Python 3",
      "name": "python3"
    },
    "language_info": {
      "name": "python"
    }
  },
  "nbformat": 4,
  "nbformat_minor": 0
}